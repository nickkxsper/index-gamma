{
 "cells": [
  {
   "cell_type": "raw",
   "id": "68dac2b6",
   "metadata": {},
   "source": [
    "1) download data from https://www.cboe.com/delayed_quotes \n",
    "2) options -> Options Range: All, Expiration: All -> scroll.... download csv\n",
    "3) put {ticker}_quotedata in dir \n",
    "4) spx data from friday already in dir"
   ]
  },
  {
   "cell_type": "code",
   "execution_count": null,
   "id": "2289489b",
   "metadata": {},
   "outputs": [],
   "source": [
    "from utils import *"
   ]
  },
  {
   "cell_type": "markdown",
   "id": "a02dd778",
   "metadata": {},
   "source": [
    "Instatiate Gamma Tool"
   ]
  },
  {
   "cell_type": "code",
   "execution_count": null,
   "id": "21d949df",
   "metadata": {},
   "outputs": [],
   "source": [
    "gammaTool = Gamma(filename = 'spx_quotedata.csv', strike_strides = 60)"
   ]
  },
  {
   "cell_type": "code",
   "execution_count": null,
   "id": "f5448958",
   "metadata": {},
   "outputs": [],
   "source": [
    "gammaTool.gamma_df.head()"
   ]
  },
  {
   "cell_type": "markdown",
   "id": "8c364cb9",
   "metadata": {},
   "source": [
    "Absolute Gamma"
   ]
  },
  {
   "cell_type": "code",
   "execution_count": null,
   "id": "8fd7ef0c",
   "metadata": {},
   "outputs": [],
   "source": [
    "gammaTool.plot_absolute_gamma()"
   ]
  },
  {
   "cell_type": "code",
   "execution_count": null,
   "id": "bb293b00",
   "metadata": {},
   "outputs": [],
   "source": [
    "gammaTool.plot_absolute_gamma_by_c_p()"
   ]
  },
  {
   "cell_type": "markdown",
   "id": "17ac620d",
   "metadata": {},
   "source": [
    "Gamma Profile"
   ]
  },
  {
   "cell_type": "code",
   "execution_count": null,
   "id": "98d7ed84",
   "metadata": {},
   "outputs": [],
   "source": [
    "gammaTool.calc_gamma_profile() \n",
    "gammaTool.plot_gamma_profile()"
   ]
  },
  {
   "cell_type": "code",
   "execution_count": null,
   "id": "484cf455",
   "metadata": {},
   "outputs": [],
   "source": []
  },
  {
   "cell_type": "code",
   "execution_count": null,
   "id": "dd600a0a",
   "metadata": {},
   "outputs": [],
   "source": []
  },
  {
   "cell_type": "code",
   "execution_count": 5,
   "id": "161c791b",
   "metadata": {},
   "outputs": [],
   "source": []
  },
  {
   "cell_type": "code",
   "execution_count": 20,
   "id": "4456d2db",
   "metadata": {},
   "outputs": [],
   "source": []
  },
  {
   "cell_type": "code",
   "execution_count": 14,
   "id": "c49e9359",
   "metadata": {},
   "outputs": [],
   "source": []
  },
  {
   "cell_type": "code",
   "execution_count": null,
   "id": "121ad6f7",
   "metadata": {},
   "outputs": [],
   "source": []
  },
  {
   "cell_type": "code",
   "execution_count": 24,
   "id": "4a3769e9",
   "metadata": {},
   "outputs": [],
   "source": []
  },
  {
   "cell_type": "code",
   "execution_count": 25,
   "id": "656fe86a",
   "metadata": {},
   "outputs": [],
   "source": []
  },
  {
   "cell_type": "code",
   "execution_count": 34,
   "id": "d62838f6",
   "metadata": {},
   "outputs": [],
   "source": []
  },
  {
   "cell_type": "code",
   "execution_count": 36,
   "id": "ff4c16dd",
   "metadata": {},
   "outputs": [],
   "source": [
    "async def get_daily_data(trading_item_ids: List, date_range):\n",
    "    prices = await pricing_provider.get_price_history(\n",
    "            trading_item_ids = trading_item_ids, \n",
    "            date_range = date_range)\n",
    "    return prices"
   ]
  },
  {
   "cell_type": "code",
   "execution_count": 40,
   "id": "1190fe7f",
   "metadata": {},
   "outputs": [],
   "source": [
    "df = await get_daily_data([6179710], sc_trading_cal.get_trade_day_range(start=dt.date(2011, 5, 2), end=dt.date(2022, 2, 18)) )\n",
    "\n"
   ]
  },
  {
   "cell_type": "code",
   "execution_count": 41,
   "id": "37756df2",
   "metadata": {},
   "outputs": [],
   "source": [
    "df.to_csv('SPX-Price-Daily.csv')"
   ]
  },
  {
   "cell_type": "code",
   "execution_count": null,
   "id": "a9b0f377",
   "metadata": {},
   "outputs": [],
   "source": []
  }
 ],
 "metadata": {
  "kernelspec": {
   "display_name": "Python 3 (ipykernel)",
   "language": "python",
   "name": "python3"
  },
  "language_info": {
   "codemirror_mode": {
    "name": "ipython",
    "version": 3
   },
   "file_extension": ".py",
   "mimetype": "text/x-python",
   "name": "python",
   "nbconvert_exporter": "python",
   "pygments_lexer": "ipython3",
   "version": "3.9.7"
  }
 },
 "nbformat": 4,
 "nbformat_minor": 5
}
