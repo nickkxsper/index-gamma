{
 "cells": [
  {
   "cell_type": "raw",
   "id": "375a679e",
   "metadata": {},
   "source": [
    "1) download data from https://www.cboe.com/delayed_quotes \n",
    "2) options -> Options Range: All, Expiration: All -> scroll.... download csv\n",
    "3) put {ticker}_quotedata in dir \n",
    "4) spx data from friday already in dir"
   ]
  },
  {
   "cell_type": "code",
   "execution_count": 1,
   "id": "1faf8c2d",
   "metadata": {},
   "outputs": [],
   "source": [
    "from utils import *"
   ]
  },
  {
   "cell_type": "markdown",
   "id": "81aae7f4",
   "metadata": {},
   "source": [
    "Instatiate Gamma Tool"
   ]
  },
  {
   "cell_type": "code",
   "execution_count": 2,
   "id": "e6373b1b",
   "metadata": {},
   "outputs": [],
   "source": [
    "gammaTool = Gamma(filename = 'spx_quotedata.csv', strike_strides = 60)"
   ]
  },
  {
   "cell_type": "code",
   "execution_count": 3,
   "id": "5fa763e1",
   "metadata": {},
   "outputs": [
    {
     "data": {
      "text/html": [
       "<div>\n",
       "<style scoped>\n",
       "    .dataframe tbody tr th:only-of-type {\n",
       "        vertical-align: middle;\n",
       "    }\n",
       "\n",
       "    .dataframe tbody tr th {\n",
       "        vertical-align: top;\n",
       "    }\n",
       "\n",
       "    .dataframe thead th {\n",
       "        text-align: right;\n",
       "    }\n",
       "</style>\n",
       "<table border=\"1\" class=\"dataframe\">\n",
       "  <thead>\n",
       "    <tr style=\"text-align: right;\">\n",
       "      <th></th>\n",
       "      <th>ExpirationDate</th>\n",
       "      <th>Calls</th>\n",
       "      <th>CallLastSale</th>\n",
       "      <th>CallNet</th>\n",
       "      <th>CallBid</th>\n",
       "      <th>CallAsk</th>\n",
       "      <th>CallVol</th>\n",
       "      <th>CallIV</th>\n",
       "      <th>CallDelta</th>\n",
       "      <th>CallGamma</th>\n",
       "      <th>...</th>\n",
       "      <th>PutBid</th>\n",
       "      <th>PutAsk</th>\n",
       "      <th>PutVol</th>\n",
       "      <th>PutIV</th>\n",
       "      <th>PutDelta</th>\n",
       "      <th>PutGamma</th>\n",
       "      <th>PutOpenInt</th>\n",
       "      <th>CallGEX</th>\n",
       "      <th>PutGEX</th>\n",
       "      <th>TotalGamma</th>\n",
       "    </tr>\n",
       "  </thead>\n",
       "  <tbody>\n",
       "    <tr>\n",
       "      <th>0</th>\n",
       "      <td>2022-02-22 16:00:00</td>\n",
       "      <td>SPXW220222C02400000</td>\n",
       "      <td>0.0000</td>\n",
       "      <td>0.0000</td>\n",
       "      <td>1,945.6000</td>\n",
       "      <td>1,962.5000</td>\n",
       "      <td>0</td>\n",
       "      <td>2.6200</td>\n",
       "      <td>0.9998</td>\n",
       "      <td>0.0000</td>\n",
       "      <td>...</td>\n",
       "      <td>0.0000</td>\n",
       "      <td>0.0500</td>\n",
       "      <td>1</td>\n",
       "      <td>1.5871</td>\n",
       "      <td>-0.0001</td>\n",
       "      <td>0.0000</td>\n",
       "      <td>269.0000</td>\n",
       "      <td>0.0000</td>\n",
       "      <td>-0.0000</td>\n",
       "      <td>0.0000</td>\n",
       "    </tr>\n",
       "    <tr>\n",
       "      <th>1</th>\n",
       "      <td>2022-02-22 16:00:00</td>\n",
       "      <td>SPXW220222C02600000</td>\n",
       "      <td>0.0000</td>\n",
       "      <td>0.0000</td>\n",
       "      <td>1,745.6000</td>\n",
       "      <td>1,762.5000</td>\n",
       "      <td>0</td>\n",
       "      <td>2.3011</td>\n",
       "      <td>0.9998</td>\n",
       "      <td>0.0000</td>\n",
       "      <td>...</td>\n",
       "      <td>0.0000</td>\n",
       "      <td>0.0500</td>\n",
       "      <td>2</td>\n",
       "      <td>1.3932</td>\n",
       "      <td>-0.0002</td>\n",
       "      <td>0.0000</td>\n",
       "      <td>294.0000</td>\n",
       "      <td>0.0000</td>\n",
       "      <td>-0.0000</td>\n",
       "      <td>0.0000</td>\n",
       "    </tr>\n",
       "    <tr>\n",
       "      <th>2</th>\n",
       "      <td>2022-02-22 16:00:00</td>\n",
       "      <td>SPXW220222C02800000</td>\n",
       "      <td>1,494.2200</td>\n",
       "      <td>0.0000</td>\n",
       "      <td>1,545.6000</td>\n",
       "      <td>1,562.5000</td>\n",
       "      <td>0</td>\n",
       "      <td>2.0039</td>\n",
       "      <td>0.9998</td>\n",
       "      <td>0.0000</td>\n",
       "      <td>...</td>\n",
       "      <td>0.0000</td>\n",
       "      <td>0.0500</td>\n",
       "      <td>0</td>\n",
       "      <td>1.1987</td>\n",
       "      <td>-0.0002</td>\n",
       "      <td>0.0000</td>\n",
       "      <td>1,663.0000</td>\n",
       "      <td>0.0000</td>\n",
       "      <td>-0.0000</td>\n",
       "      <td>0.0000</td>\n",
       "    </tr>\n",
       "    <tr>\n",
       "      <th>3</th>\n",
       "      <td>2022-02-22 16:00:00</td>\n",
       "      <td>SPXW220222C03000000</td>\n",
       "      <td>1,328.2400</td>\n",
       "      <td>0.0000</td>\n",
       "      <td>1,345.6000</td>\n",
       "      <td>1,362.5000</td>\n",
       "      <td>0</td>\n",
       "      <td>1.7248</td>\n",
       "      <td>0.9998</td>\n",
       "      <td>0.0000</td>\n",
       "      <td>...</td>\n",
       "      <td>0.0000</td>\n",
       "      <td>0.0500</td>\n",
       "      <td>325</td>\n",
       "      <td>1.0238</td>\n",
       "      <td>-0.0002</td>\n",
       "      <td>0.0000</td>\n",
       "      <td>988.0000</td>\n",
       "      <td>0.0000</td>\n",
       "      <td>-0.0000</td>\n",
       "      <td>0.0000</td>\n",
       "    </tr>\n",
       "    <tr>\n",
       "      <th>4</th>\n",
       "      <td>2022-02-22 16:00:00</td>\n",
       "      <td>SPXW220222C03200000</td>\n",
       "      <td>1,119.5700</td>\n",
       "      <td>0.0000</td>\n",
       "      <td>1,151.5000</td>\n",
       "      <td>1,158.1000</td>\n",
       "      <td>0</td>\n",
       "      <td>1.4583</td>\n",
       "      <td>0.9997</td>\n",
       "      <td>0.0000</td>\n",
       "      <td>...</td>\n",
       "      <td>0.0000</td>\n",
       "      <td>0.0500</td>\n",
       "      <td>3411</td>\n",
       "      <td>0.8503</td>\n",
       "      <td>-0.0003</td>\n",
       "      <td>0.0000</td>\n",
       "      <td>9,290.0000</td>\n",
       "      <td>0.0000</td>\n",
       "      <td>-0.0000</td>\n",
       "      <td>0.0000</td>\n",
       "    </tr>\n",
       "  </tbody>\n",
       "</table>\n",
       "<p>5 rows × 25 columns</p>\n",
       "</div>"
      ],
      "text/plain": [
       "       ExpirationDate                Calls  CallLastSale  CallNet    CallBid  \\\n",
       "0 2022-02-22 16:00:00  SPXW220222C02400000        0.0000   0.0000 1,945.6000   \n",
       "1 2022-02-22 16:00:00  SPXW220222C02600000        0.0000   0.0000 1,745.6000   \n",
       "2 2022-02-22 16:00:00  SPXW220222C02800000    1,494.2200   0.0000 1,545.6000   \n",
       "3 2022-02-22 16:00:00  SPXW220222C03000000    1,328.2400   0.0000 1,345.6000   \n",
       "4 2022-02-22 16:00:00  SPXW220222C03200000    1,119.5700   0.0000 1,151.5000   \n",
       "\n",
       "     CallAsk  CallVol  CallIV  CallDelta  CallGamma  ...  PutBid  PutAsk  \\\n",
       "0 1,962.5000        0  2.6200     0.9998     0.0000  ...  0.0000  0.0500   \n",
       "1 1,762.5000        0  2.3011     0.9998     0.0000  ...  0.0000  0.0500   \n",
       "2 1,562.5000        0  2.0039     0.9998     0.0000  ...  0.0000  0.0500   \n",
       "3 1,362.5000        0  1.7248     0.9998     0.0000  ...  0.0000  0.0500   \n",
       "4 1,158.1000        0  1.4583     0.9997     0.0000  ...  0.0000  0.0500   \n",
       "\n",
       "  PutVol  PutIV  PutDelta  PutGamma  PutOpenInt  CallGEX  PutGEX  TotalGamma  \n",
       "0      1 1.5871   -0.0001    0.0000    269.0000   0.0000 -0.0000      0.0000  \n",
       "1      2 1.3932   -0.0002    0.0000    294.0000   0.0000 -0.0000      0.0000  \n",
       "2      0 1.1987   -0.0002    0.0000  1,663.0000   0.0000 -0.0000      0.0000  \n",
       "3    325 1.0238   -0.0002    0.0000    988.0000   0.0000 -0.0000      0.0000  \n",
       "4   3411 0.8503   -0.0003    0.0000  9,290.0000   0.0000 -0.0000      0.0000  \n",
       "\n",
       "[5 rows x 25 columns]"
      ]
     },
     "execution_count": 3,
     "metadata": {},
     "output_type": "execute_result"
    }
   ],
   "source": [
    "gammaTool.gamma_df.head()"
   ]
  },
  {
   "cell_type": "markdown",
   "id": "f6bd0542",
   "metadata": {},
   "source": [
    "Absolute Gamma"
   ]
  },
  {
   "cell_type": "code",
   "execution_count": 4,
   "id": "2e9e4cbc",
   "metadata": {},
   "outputs": [
    {
     "data": {
      "image/png": "[encoded data removed]",
      "text/plain": [
       "<Figure size 432x288 with 1 Axes>"
      ]
     },
     "metadata": {
      "needs_background": "light"
     },
     "output_type": "display_data"
    }
   ],
   "source": [
    "gammaTool.plot_absolute_gamma()"
   ]
  },
  {
   "cell_type": "code",
   "execution_count": 5,
   "id": "a691caaa",
   "metadata": {},
   "outputs": [
    {
     "data": {
      "image/png": "[encoded data removed]",
      "text/plain": [
       "<Figure size 432x288 with 1 Axes>"
      ]
     },
     "metadata": {
      "needs_background": "light"
     },
     "output_type": "display_data"
    }
   ],
   "source": [
    "gammaTool.plot_absolute_gamma_by_c_p()"
   ]
  },
  {
   "cell_type": "markdown",
   "id": "6fe312c0",
   "metadata": {},
   "source": [
    "Gamma Profile"
   ]
  },
  {
   "cell_type": "code",
   "execution_count": null,
   "id": "d71fdf4a",
   "metadata": {},
   "outputs": [],
   "source": [
    "gammaTool.calc_gamma_profile() \n",
    "gammaTool.plot_gamma_profile()"
   ]
  },
  {
   "cell_type": "code",
   "execution_count": null,
   "id": "78e79e8b",
   "metadata": {},
   "outputs": [],
   "source": []
  }
 ],
 "metadata": {
  "kernelspec": {
   "display_name": "Python 3 (ipykernel)",
   "language": "python",
   "name": "python3"
  },
  "language_info": {
   "codemirror_mode": {
    "name": "ipython",
    "version": 3
   },
   "file_extension": ".py",
   "mimetype": "text/x-python",
   "name": "python",
   "nbconvert_exporter": "python",
   "pygments_lexer": "ipython3",
   "version": "3.9.7"
  }
 },
 "nbformat": 4,
 "nbformat_minor": 5
}
