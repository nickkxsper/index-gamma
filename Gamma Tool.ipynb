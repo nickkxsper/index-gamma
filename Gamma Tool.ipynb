{
 "cells": [
  {
   "cell_type": "raw",
   "id": "375a679e",
   "metadata": {},
   "source": [
    "1) download data from https://www.cboe.com/delayed_quotes \n",
    "2) options -> Options Range: All, Expiration: All -> scroll.... download csv\n",
    "3) put {ticker}_quotedata in dir \n",
    "4) spx data from friday already in dir"
   ]
  },
  {
   "cell_type": "code",
   "execution_count": null,
   "id": "1faf8c2d",
   "metadata": {},
   "outputs": [],
   "source": [
    "from utils import *"
   ]
  },
  {
   "cell_type": "markdown",
   "id": "81aae7f4",
   "metadata": {},
   "source": [
    "Instatiate Gamma Tool"
   ]
  },
  {
   "cell_type": "code",
   "execution_count": null,
   "id": "e6373b1b",
   "metadata": {},
   "outputs": [],
   "source": [
    "gammaTool = Gamma(filename = 'spx_quotedata.csv', strike_strides = 60)"
   ]
  },
  {
   "cell_type": "code",
   "execution_count": null,
   "id": "5fa763e1",
   "metadata": {},
   "outputs": [],
   "source": [
    "gammaTool.gamma_df.head()"
   ]
  },
  {
   "cell_type": "markdown",
   "id": "f6bd0542",
   "metadata": {},
   "source": [
    "Absolute Gamma"
   ]
  },
  {
   "cell_type": "code",
   "execution_count": null,
   "id": "2e9e4cbc",
   "metadata": {},
   "outputs": [],
   "source": [
    "gammaTool.plot_absolute_gamma()"
   ]
  },
  {
   "cell_type": "code",
   "execution_count": null,
   "id": "a691caaa",
   "metadata": {},
   "outputs": [],
   "source": [
    "gammaTool.plot_absolute_gamma_by_c_p()"
   ]
  },
  {
   "cell_type": "markdown",
   "id": "6fe312c0",
   "metadata": {},
   "source": [
    "Gamma Profile"
   ]
  },
  {
   "cell_type": "code",
   "execution_count": null,
   "id": "d71fdf4a",
   "metadata": {},
   "outputs": [],
   "source": [
    "gammaTool.calc_gamma_profile() \n",
    "gammaTool.plot_gamma_profile()"
   ]
  }
 ],
 "metadata": {
  "kernelspec": {
   "display_name": "Python 3 (ipykernel)",
   "language": "python",
   "name": "python3"
  },
  "language_info": {
   "codemirror_mode": {
    "name": "ipython",
    "version": 3
   },
   "file_extension": ".py",
   "mimetype": "text/x-python",
   "name": "python",
   "nbconvert_exporter": "python",
   "pygments_lexer": "ipython3",
   "version": "3.9.7"
  }
 },
 "nbformat": 4,
 "nbformat_minor": 5
}
