{
 "cells": [
  {
   "cell_type": "code",
   "execution_count": 1,
   "metadata": {},
   "outputs": [],
   "source": [
    "pricing_hostname = 'https://pricing.api.santecapital.dev'"
   ]
  },
  {
   "cell_type": "code",
   "execution_count": 2,
   "metadata": {},
   "outputs": [],
   "source": [
    "from sc_pricing import ScPricing\n",
    "\n",
    "pricing_client = ScPricing(hostname='https://pricing.api.santecapital.com')"
   ]
  },
  {
   "cell_type": "code",
   "execution_count": 3,
   "metadata": {},
   "outputs": [],
   "source": [
    "import sc_trading_cal\n",
    "import datetime as dt"
   ]
  },
  {
   "cell_type": "code",
   "execution_count": 4,
   "metadata": {},
   "outputs": [],
   "source": [
    "from sc_pricing import ScPricing\n",
    "import os\n",
    "import datetime as dt\n",
    "import pandas as pd\n",
    "\n",
    "\n",
    "class PricingProvider:\n",
    "\n",
    "    def __init__(self, pricing_client, base_url):\n",
    "        self.pricing_client = pricing_client\n",
    "        self.base_url = base_url\n",
    "\n",
    "    def init_client(self):\n",
    "        # Access the environment variable for the api key\n",
    "        # Initialize client\n",
    "        self.client = self.pricing_client(hostname=self.base_url,\n",
    "                                          as_of=dt.datetime.now(\n",
    "                                              dt.timezone.utc),\n",
    "                                          with_cache=False)\n",
    "\n",
    "    async def get_price_history(self, trading_item_ids, date_range):\n",
    "        \"\"\"\n",
    "        Format trading_item_ids and return pricing history for a given set of dates\n",
    "        \"\"\"\n",
    "        self.init_client()\n",
    "        keys = pd.Series(trading_item_ids).apply(lambda x: int(x)).to_list()\n",
    "        prices = await self.client.get_prices(\n",
    "            trade_date_range=date_range,\n",
    "            trading_item_ids=keys,\n",
    "        )\n",
    "        await self.client.http_client.close()\n",
    "        return prices.reset_index()"
   ]
  },
  {
   "cell_type": "code",
   "execution_count": 5,
   "metadata": {},
   "outputs": [],
   "source": [
    "pricing_provider = PricingProvider(\n",
    "        pricing_client=ScPricing,\n",
    "        base_url='https://pricing.api.santecapital.com',\n",
    "    )"
   ]
  },
  {
   "cell_type": "code",
   "execution_count": 6,
   "metadata": {},
   "outputs": [],
   "source": [
    "from typing import List"
   ]
  },
  {
   "cell_type": "code",
   "execution_count": 7,
   "metadata": {},
   "outputs": [],
   "source": [
    "async def get_daily_data(trading_item_ids: List, date_range):\n",
    "    prices = await pricing_provider.get_price_history(\n",
    "            trading_item_ids = trading_item_ids, \n",
    "            date_range = date_range)\n",
    "    return prices"
   ]
  },
  {
   "cell_type": "code",
   "execution_count": 8,
   "metadata": {},
   "outputs": [],
   "source": [
    "df = await get_daily_data([6179710], sc_trading_cal.get_trade_day_range(start=dt.date(2011, 5, 2), end=dt.date(2022, 2, 18)) )\n",
    "\n"
   ]
  },
  {
   "cell_type": "code",
   "execution_count": 9,
   "metadata": {},
   "outputs": [],
   "source": [
    "df.to_csv('SPX-Price-Daily.csv')"
   ]
  },
  {
   "cell_type": "code",
   "execution_count": null,
   "metadata": {},
   "outputs": [],
   "source": []
  }
 ],
 "metadata": {
  "kernelspec": {
   "display_name": "Python 3 (ipykernel)",
   "language": "python",
   "name": "python3"
  },
  "language_info": {
   "codemirror_mode": {
    "name": "ipython",
    "version": 3
   },
   "file_extension": ".py",
   "mimetype": "text/x-python",
   "name": "python",
   "nbconvert_exporter": "python",
   "pygments_lexer": "ipython3",
   "version": "3.9.7"
  }
 },
 "nbformat": 4,
 "nbformat_minor": 1
}
