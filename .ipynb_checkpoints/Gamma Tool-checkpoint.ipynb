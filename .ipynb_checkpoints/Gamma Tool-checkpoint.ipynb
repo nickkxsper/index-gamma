{
 "cells": [
  {
   "cell_type": "raw",
   "id": "6ceb93f7",
   "metadata": {},
   "source": [
    "1) download data from https://www.cboe.com/delayed_quotes \n",
    "2) options -> Options Range: All, Expiration: All -> scroll.... download csv\n",
    "3) put {ticker}_quotedata in dir \n",
    "4) spx data from friday already in dir"
   ]
  },
  {
   "cell_type": "code",
   "execution_count": null,
   "id": "b2d11b08",
   "metadata": {},
   "outputs": [],
   "source": [
    "from utils import *"
   ]
  },
  {
   "cell_type": "markdown",
   "id": "362cc20d",
   "metadata": {},
   "source": [
    "Instatiate Gamma Tool"
   ]
  },
  {
   "cell_type": "code",
   "execution_count": null,
   "id": "d9d1022d",
   "metadata": {},
   "outputs": [],
   "source": [
    "gammaTool = Gamma(filename = 'spx_quotedata.csv')"
   ]
  },
  {
   "cell_type": "code",
   "execution_count": null,
   "id": "b420eec3",
   "metadata": {},
   "outputs": [],
   "source": [
    "gammaTool.gamma_df.head()"
   ]
  },
  {
   "cell_type": "markdown",
   "id": "7e6db579",
   "metadata": {},
   "source": [
    "Absolute Gamma"
   ]
  },
  {
   "cell_type": "code",
   "execution_count": null,
   "id": "1ed4c031",
   "metadata": {},
   "outputs": [],
   "source": [
    "gammaTool.plot_absolute_gamma()"
   ]
  },
  {
   "cell_type": "code",
   "execution_count": null,
   "id": "ea7e6513",
   "metadata": {},
   "outputs": [],
   "source": [
    "gammaTool.plot_absolute_gamma_by_c_p()"
   ]
  },
  {
   "cell_type": "markdown",
   "id": "d8b6f2ee",
   "metadata": {},
   "source": [
    "Gamma Profile"
   ]
  },
  {
   "cell_type": "code",
   "execution_count": null,
   "id": "a97d65aa",
   "metadata": {},
   "outputs": [],
   "source": [
    "gammaTool.calc_gamma_profile() \n",
    "gammaTool.plot_gamma_profile()"
   ]
  },
  {
   "cell_type": "code",
   "execution_count": null,
   "id": "2fd0dd05",
   "metadata": {},
   "outputs": [],
   "source": []
  },
  {
   "cell_type": "code",
   "execution_count": null,
   "id": "da5bc367",
   "metadata": {},
   "outputs": [],
   "source": []
  }
 ],
 "metadata": {
  "kernelspec": {
   "display_name": "Python 3 (ipykernel)",
   "language": "python",
   "name": "python3"
  },
  "language_info": {
   "codemirror_mode": {
    "name": "ipython",
    "version": 3
   },
   "file_extension": ".py",
   "mimetype": "text/x-python",
   "name": "python",
   "nbconvert_exporter": "python",
   "pygments_lexer": "ipython3",
   "version": "3.9.7"
  }
 },
 "nbformat": 4,
 "nbformat_minor": 5
}
