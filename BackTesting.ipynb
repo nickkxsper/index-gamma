{
 "cells": [
  {
   "cell_type": "code",
   "execution_count": null,
   "id": "ef359e50",
   "metadata": {},
   "outputs": [],
   "source": [
    "from backtester import BackTester\n",
    "import math\n",
    "import matplotlib.pyplot as plt\n",
    "import seaborn as sns\n",
    "import pandas as pd"
   ]
  },
  {
   "cell_type": "code",
   "execution_count": null,
   "id": "daccfaa6",
   "metadata": {},
   "outputs": [],
   "source": [
    "plt.rcParams[\"figure.figsize\"] = (15,10)\n",
    "sns.set_theme()"
   ]
  },
  {
   "cell_type": "code",
   "execution_count": null,
   "id": "905c72fa",
   "metadata": {},
   "outputs": [],
   "source": [
    "def evaluate_benchmark_for_day(day):\n",
    "    ret = backtest.benchmark_changes.loc[day][0]\n",
    "    if math.isnan(ret):\n",
    "        return 0\n",
    "    else:\n",
    "        return ret\n",
    "\n",
    "def equity_curve_benchmark(starting_capital,leverage,benchmark_returns):\n",
    "    equity = [starting_capital]\n",
    "    for i in range(len(benchmark_returns)):\n",
    "        equity.append(equity[-1]*(1 + benchmark_returns[i]*leverage))\n",
    "    return equity\n"
   ]
  },
  {
   "cell_type": "code",
   "execution_count": null,
   "id": "7b0307de",
   "metadata": {},
   "outputs": [],
   "source": [
    "backtest = BackTester(file_name = 'combined_minute.csv',\n",
    "                     start_date='2011-05-02',\n",
    "                     end_date ='2022-02-18',\n",
    "                     gex_bins = 16,\n",
    "                     starting_capital = 1000000,\n",
    "                     leverage = 1.2)"
   ]
  },
  {
   "cell_type": "code",
   "execution_count": null,
   "id": "9e62cb1c",
   "metadata": {},
   "outputs": [],
   "source": [
    "backtest.data"
   ]
  },
  {
   "cell_type": "code",
   "execution_count": null,
   "id": "583a6600",
   "metadata": {},
   "outputs": [],
   "source": [
    "backtest.benchmark_changes = backtest.data.groupby(level =0).nth(-1)[['close_ask_price']].pct_change()\n",
    "rets = [evaluate_benchmark_for_day(day) for day in backtest.data.index.unique()]"
   ]
  },
  {
   "cell_type": "code",
   "execution_count": null,
   "id": "288c49b3",
   "metadata": {},
   "outputs": [],
   "source": [
    "backtest.evaluate_strategy(mr_sma = 20,\n",
    "                     mr_threshold = 0.001,\n",
    "                     mom_period = 30)"
   ]
  },
  {
   "cell_type": "code",
   "execution_count": null,
   "id": "f941d327",
   "metadata": {},
   "outputs": [],
   "source": [
    "df = pd.DataFrame(backtest.equity_curve_strategy[1:], index = backtest.data.index.unique()).rename({0:'Strategy'}, axis = 1)\n",
    "df['SPY'] = equity_curve_benchmark(1000000, 1.2, rets)[1:]\n",
    "df.index = pd.to_datetime(df.index)"
   ]
  },
  {
   "cell_type": "code",
   "execution_count": null,
   "id": "92dd4cec",
   "metadata": {},
   "outputs": [],
   "source": [
    "plt.plot(df['Strategy'])\n",
    "plt.plot(df['SPY'])\n",
    "plt.xlabel('Date')\n",
    "plt.ylabel('Strategy Equity')\n",
    "plt.title('Intraday Gamma Weighted Mean Reversion & Momentum Strategy vs SPY Buy and Hold')"
   ]
  },
  {
   "cell_type": "code",
   "execution_count": null,
   "id": "156802a2",
   "metadata": {},
   "outputs": [],
   "source": []
  }
 ],
 "metadata": {
  "kernelspec": {
   "display_name": "Python 3 (ipykernel)",
   "language": "python",
   "name": "python3"
  },
  "language_info": {
   "codemirror_mode": {
    "name": "ipython",
    "version": 3
   },
   "file_extension": ".py",
   "mimetype": "text/x-python",
   "name": "python",
   "nbconvert_exporter": "python",
   "pygments_lexer": "ipython3",
   "version": "3.9.7"
  }
 },
 "nbformat": 4,
 "nbformat_minor": 5
}
