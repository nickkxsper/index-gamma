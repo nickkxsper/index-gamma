{
 "cells": [
  {
   "cell_type": "code",
   "execution_count": null,
   "metadata": {},
   "outputs": [],
   "source": [
    "import pandas as pd\n",
    "import matplotlib.pyplot as plt\n",
    "import scipy\n",
    "import numpy as np\n",
    "import seaborn as sns\n",
    "sns.set_theme()\n",
    "import warnings\n",
    "warnings.filterwarnings(\"ignore\")"
   ]
  },
  {
   "cell_type": "code",
   "execution_count": null,
   "metadata": {},
   "outputs": [],
   "source": [
    "import matplotlib.pyplot as plt\n",
    "plt.rcParams[\"figure.figsize\"] = (15,10)"
   ]
  },
  {
   "cell_type": "code",
   "execution_count": null,
   "metadata": {},
   "outputs": [],
   "source": [
    "def log_mod(x):\n",
    "    return np.log(abs(x))"
   ]
  },
  {
   "cell_type": "code",
   "execution_count": null,
   "metadata": {},
   "outputs": [],
   "source": [
    "spx_price_day = pd.read_csv('data/SPX-Price-Daily.csv')\n",
    "spx_price_minute = pd.read_csv('SPX_minute_2011_05_02-2022-02-18.csv')\n",
    "spx_price_minute = spx_price_minute.drop(['ticker.1', 'trade_date.1'], axis = 1)"
   ]
  },
  {
   "cell_type": "code",
   "execution_count": null,
   "metadata": {},
   "outputs": [],
   "source": [
    "spx_gamma = pd.read_csv('data/spx-gamma-dix.csv')"
   ]
  },
  {
   "cell_type": "code",
   "execution_count": null,
   "metadata": {},
   "outputs": [],
   "source": [
    "# daily SPX Gamma distribution"
   ]
  },
  {
   "cell_type": "code",
   "execution_count": null,
   "metadata": {},
   "outputs": [],
   "source": [
    "plt.hist(combined_day['gex'], bins = 50);"
   ]
  },
  {
   "cell_type": "code",
   "execution_count": null,
   "metadata": {},
   "outputs": [],
   "source": [
    "# SPX Gamma exposure over time"
   ]
  },
  {
   "cell_type": "code",
   "execution_count": null,
   "metadata": {},
   "outputs": [],
   "source": [
    "spx_gamma.set_index('date')['gex'].plot()"
   ]
  },
  {
   "cell_type": "code",
   "execution_count": null,
   "metadata": {},
   "outputs": [],
   "source": [
    "spx_price_day.rename(columns={'pricing_date':'date'}, inplace=True)\n",
    "spx_price_day.head()"
   ]
  },
  {
   "cell_type": "code",
   "execution_count": null,
   "metadata": {},
   "outputs": [],
   "source": [
    "spx_price_minute.rename(columns={'trade_date':'date'}, inplace=True)\n",
    "spx_price_minute.head()"
   ]
  },
  {
   "cell_type": "code",
   "execution_count": null,
   "metadata": {},
   "outputs": [],
   "source": [
    "combined_day = pd.merge(spx_gamma,spx_price_day,on='date',how='inner')\n",
    "combined_day['gex_scaled'] = pd.Series(combined_day['gex']/1e9).apply(lambda x: log_mod(x))\n",
    "combined_day['volume_scaled'] = pd.Series(combined_day['volume']/1e6).apply(lambda x: log_mod(x)) - 2"
   ]
  },
  {
   "cell_type": "code",
   "execution_count": null,
   "metadata": {},
   "outputs": [],
   "source": [
    "daily_liquidity = []\n",
    "for i in range(len(combined_day)):\n",
    "    if combined_day.iloc[i]['high'] == combined_day.iloc[i]['low']:\n",
    "        daily_liquidity.append(combined_day.iloc[i]['volume_scaled']/abs(combined_day.iloc[i]['high'] - combined_day.iloc[i]['vwap']))\n",
    "    else:\n",
    "        daily_liquidity.append(combined_day.iloc[i]['volume_scaled']/abs(combined_day.iloc[i]['high'] - combined_day.iloc[i]['low']))\n",
    "\n",
    "combined_day['liquidity'] = pd.Series(daily_liquidity) "
   ]
  },
  {
   "cell_type": "code",
   "execution_count": null,
   "metadata": {},
   "outputs": [],
   "source": [
    "# daily liquidity"
   ]
  },
  {
   "cell_type": "code",
   "execution_count": null,
   "metadata": {},
   "outputs": [],
   "source": [
    "plt.hist(combined_day['liquidity'], bins = 25);"
   ]
  },
  {
   "cell_type": "code",
   "execution_count": null,
   "metadata": {},
   "outputs": [],
   "source": [
    "# daily log(volume)"
   ]
  },
  {
   "cell_type": "code",
   "execution_count": null,
   "metadata": {},
   "outputs": [],
   "source": [
    "plt.hist(combined_day['volume_scaled'], bins = 50);"
   ]
  },
  {
   "cell_type": "code",
   "execution_count": null,
   "metadata": {},
   "outputs": [],
   "source": [
    "combined_minute =  pd.merge(spx_gamma,spx_price_minute,on='date',how='inner')\n",
    "combined_minute['gex_scaled'] = pd.Series(combined_minute['gex']/1e9).apply(lambda x: log_mod(x))\n",
    "combined_minute['volume'] = combined_minute['volume'].replace(0,np.mean(combined_minute['volume']))\n",
    "combined_minute['volume_scaled'] = pd.Series(combined_minute['volume']/1e4).apply(lambda x: log_mod(x))"
   ]
  },
  {
   "cell_type": "code",
   "execution_count": null,
   "metadata": {},
   "outputs": [],
   "source": [
    "from IPython.display import clear_output"
   ]
  },
  {
   "cell_type": "code",
   "execution_count": null,
   "metadata": {},
   "outputs": [],
   "source": [
    "combined_minute['high'] = (combined_minute['high_bid_price'] + combined_minute['high_ask_price'])/2\n",
    "combined_minute['low'] = (combined_minute['low_bid_price'] + combined_minute['low_ask_price'])/2\n",
    "combined_minute['liquidity'] = combined_minute['volume_scaled']/abs(combined_minute['high'] - combined_minute['low'])/10\n",
    "combined_minute['liquidity'] = combined_minute['liquidity'].replace(np.inf, np.mean(combined_minute['liquidity'])).replace(-np.inf, np.mean(combined_minute['liquidity']))\n",
    "combined_minute['log_liquidity'] = combined_minute['liquidity'].apply(lambda x: log_mod(x))"
   ]
  },
  {
   "cell_type": "code",
   "execution_count": null,
   "metadata": {},
   "outputs": [],
   "source": [
    "plt.hist(combined_minute['liquidity'], bins = 1000);\n",
    "plt.xlim(0, 25)"
   ]
  },
  {
   "cell_type": "code",
   "execution_count": null,
   "metadata": {},
   "outputs": [],
   "source": [
    "plt.hist(combined_minute['volume_scaled'], bins = 500);"
   ]
  },
  {
   "cell_type": "code",
   "execution_count": null,
   "metadata": {},
   "outputs": [],
   "source": [
    "date_group = combined_minute.groupby('date').mean()[['gex', 'liquidity', 'gex_scaled', 'log_liquidity','high', 'low']]"
   ]
  },
  {
   "cell_type": "code",
   "execution_count": null,
   "metadata": {},
   "outputs": [],
   "source": [
    "date_group['std_liquidity'] = [x for x in pd.Series(combined_minute.groupby('date').std()['liquidity'].to_list())]\n",
    "date_group['std_log_liquidity'] = [x for x in pd.Series(combined_minute.groupby('date').std()['log_liquidity'].to_list())]"
   ]
  },
  {
   "cell_type": "code",
   "execution_count": null,
   "metadata": {},
   "outputs": [],
   "source": [
    "plt.scatter(date_group['gex'], date_group['log_liquidity'])"
   ]
  },
  {
   "cell_type": "code",
   "execution_count": null,
   "metadata": {},
   "outputs": [],
   "source": [
    "plt.scatter(date_group['gex'], date_group['std_log_liquidity'])"
   ]
  },
  {
   "cell_type": "code",
   "execution_count": null,
   "metadata": {},
   "outputs": [],
   "source": [
    "date_group.index = pd.to_datetime(date_group.index)\n",
    "pre_covid = date_group[date_group.index < '2020-03-01']\n",
    "post_covid = date_group[date_group.index > '2020-03-01']"
   ]
  },
  {
   "cell_type": "code",
   "execution_count": null,
   "metadata": {},
   "outputs": [],
   "source": [
    "plt.plot(pre_covid.groupby(pd.qcut(pre_covid['gex'],10)).mean()[['liquidity']]/3)\n",
    "plt.xlabel(\"Gamma Bin\")\n",
    "plt.ylabel(\"Average Intraday Liquidity\")\n",
    "plt.title('Pre Covid SPX Gamma Vs Average Intraday Liquidity')"
   ]
  },
  {
   "cell_type": "code",
   "execution_count": null,
   "metadata": {},
   "outputs": [],
   "source": [
    "plt.plot(post_covid.groupby(pd.qcut(post_covid['gex'],10)).mean()[['liquidity']])\n",
    "plt.xlabel(\"Gamma Bin\")\n",
    "plt.ylabel(\"Average Intraday Liquidity\")\n",
    "plt.title('Post Covid SPX Gamma Vs Average Intraday Liquidity')"
   ]
  },
  {
   "cell_type": "code",
   "execution_count": null,
   "metadata": {},
   "outputs": [],
   "source": [
    "combined_minute.to_csv('combined_minute.csv')"
   ]
  }
 ],
 "metadata": {
  "kernelspec": {
   "display_name": "Python 3 (ipykernel)",
   "language": "python",
   "name": "python3"
  },
  "language_info": {
   "codemirror_mode": {
    "name": "ipython",
    "version": 3
   },
   "file_extension": ".py",
   "mimetype": "text/x-python",
   "name": "python",
   "nbconvert_exporter": "python",
   "pygments_lexer": "ipython3",
   "version": "3.9.7"
  }
 },
 "nbformat": 4,
 "nbformat_minor": 4
}